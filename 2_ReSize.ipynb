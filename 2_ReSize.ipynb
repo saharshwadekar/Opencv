{
 "cells": [
  {
   "cell_type": "code",
   "execution_count": 2,
   "id": "3c2fd469-8a54-4404-94b6-1e1ee85bd57d",
   "metadata": {},
   "outputs": [],
   "source": [
    "import cv2 as cv"
   ]
  },
  {
   "cell_type": "code",
   "execution_count": 6,
   "id": "e8cf8411-695a-4e20-85ee-3f30f1595ac2",
   "metadata": {},
   "outputs": [],
   "source": [
    "def reScaleFrame(frame,scale = 0.2):\n",
    "    width = int(frame.shape[1] * scale)\n",
    "    height = int(frame.shape[0] * scale)\n",
    "    dimensions = (width,height)\n",
    "    \n",
    "    return cv.resize(frame,dimensions,interpolation = cv.INTER_AREA)"
   ]
  },
  {
   "cell_type": "code",
   "execution_count": 10,
   "id": "78d5a6bc-86cb-448a-85c5-db12c5e00c5a",
   "metadata": {},
   "outputs": [
    {
     "name": "stderr",
     "output_type": "stream",
     "text": [
      "[ WARN:0@415.395] global /private/var/folders/sy/f16zz6x50xz3113nwtb9bvq00000gp/T/abs_506zufg7xt/croots/recipe/opencv-suite_1664548331847/work/modules/videoio/src/cap_gstreamer.cpp (862) isPipelinePlaying OpenCV | GStreamer warning: GStreamer: pipeline have not been created\n",
      "[ERROR:0@415.395] global /private/var/folders/sy/f16zz6x50xz3113nwtb9bvq00000gp/T/abs_506zufg7xt/croots/recipe/opencv-suite_1664548331847/work/modules/videoio/src/cap.cpp (166) open VIDEOIO(GSTREAMER): raised OpenCV exception:\n",
      "\n",
      "OpenCV(4.6.0) /private/var/folders/sy/f16zz6x50xz3113nwtb9bvq00000gp/T/abs_506zufg7xt/croots/recipe/opencv-suite_1664548331847/work/modules/core/src/utils/filesystem.cpp:580: error: (-213:The function/feature is not implemented)  in function 'exists'\n",
      "\n",
      "\n"
     ]
    }
   ],
   "source": [
    "capture = cv.VideoCapture(\"xmas.mp4\")\n",
    "# all images , Videos , live Videos\n",
    "while(True):\n",
    "    isTrue,frame = capture.read()\n",
    "    cv.imshow(\"Video\",frame)\n",
    "    \n",
    "    \n",
    "    frame_resized = reScaleFrame(frame)\n",
    "    cv.imshow(\"Video_ReSized\",frame_resized)\n",
    "    \n",
    "    \n",
    "    if cv.waitKey(20) & 0xFF==ord('d'):\n",
    "        break\n",
    "\n",
    "cv.destroyAllWindows()\n",
    "capture.release()"
   ]
  },
  {
   "cell_type": "code",
   "execution_count": null,
   "id": "2e7d6346-f33c-4e30-ba57-021077521ed3",
   "metadata": {},
   "outputs": [],
   "source": [
    "def changeRes(width,height):\n",
    "    #live Videos\n",
    "    capture.set(3,width)\n",
    "    capture.set(4,height)"
   ]
  }
 ],
 "metadata": {
  "kernelspec": {
   "display_name": "Python 3 (ipykernel)",
   "language": "python",
   "name": "python3"
  },
  "language_info": {
   "codemirror_mode": {
    "name": "ipython",
    "version": 3
   },
   "file_extension": ".py",
   "mimetype": "text/x-python",
   "name": "python",
   "nbconvert_exporter": "python",
   "pygments_lexer": "ipython3",
   "version": "3.10.8"
  }
 },
 "nbformat": 4,
 "nbformat_minor": 5
}
