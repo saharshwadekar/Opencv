{
 "cells": [
  {
   "cell_type": "code",
   "execution_count": 1,
   "id": "9b1bc3d4-9177-40d7-8f06-dbcf183424d5",
   "metadata": {},
   "outputs": [],
   "source": [
    "import cv2 as cv\n",
    "import numpy as np"
   ]
  },
  {
   "cell_type": "code",
   "execution_count": 2,
   "id": "067247ad-1770-46ec-9205-5ce1e5860c22",
   "metadata": {},
   "outputs": [],
   "source": [
    "#Creating an black images\n",
    "blank = np.zeros((500,500,3),dtype= 'uint8')\n",
    "cv.imshow(\"Blank Image\",blank)\n",
    "cv.waitKey(0)\n",
    "cv.destroyAllWindows()"
   ]
  },
  {
   "cell_type": "code",
   "execution_count": 3,
   "id": "9e150885-5794-4bb4-95a8-4ad150ac267d",
   "metadata": {},
   "outputs": [],
   "source": [
    "#Paint the image with Certain Color\n",
    "blank[:] = 0,0,255\n",
    "cv.imshow(\"RED\",blank)\n",
    "cv.waitKey(0)\n",
    "cv.destroyAllWindows()"
   ]
  },
  {
   "cell_type": "code",
   "execution_count": 4,
   "id": "84bc2b5c-fa24-49ac-819a-7dc1ea39d7dd",
   "metadata": {},
   "outputs": [],
   "source": [
    "blank[200:300,300:400]=255,0,0\n",
    "cv.imshow(\"box\",blank)\n",
    "cv.waitKey(0)\n",
    "cv.destroyAllWindows()"
   ]
  },
  {
   "cell_type": "code",
   "execution_count": 5,
   "id": "09310fdd-a573-46ad-9553-5a12a41d877c",
   "metadata": {},
   "outputs": [],
   "source": [
    "cv.rectangle(blank,(0,0),(250,250),(0,255,0),thickness = cv.FILLED)  #cv.FILLED == -1\n",
    "cv.imshow(\"box\",blank)\n",
    "cv.waitKey(0)\n",
    "cv.destroyAllWindows()"
   ]
  },
  {
   "cell_type": "code",
   "execution_count": 6,
   "id": "4eb1cb7f-43c4-4576-85d2-f9e591114288",
   "metadata": {},
   "outputs": [],
   "source": [
    "cv.rectangle(blank,(0,0),(250,500),(0,255,0),thickness = 2)\n",
    "cv.imshow(\"box\",blank)\n",
    "cv.waitKey(0)\n",
    "cv.destroyAllWindows()"
   ]
  },
  {
   "cell_type": "code",
   "execution_count": 7,
   "id": "75c7fce6-9c74-442d-910a-cde060deb6ab",
   "metadata": {},
   "outputs": [],
   "source": [
    "# img.shape[1] // 2 --> width\n",
    "# img.shape[0] // 2 --> height"
   ]
  },
  {
   "cell_type": "code",
   "execution_count": 8,
   "id": "8c1d1dee-dc75-4747-a11d-884816ed0434",
   "metadata": {},
   "outputs": [],
   "source": [
    "#circle\n",
    "cv.circle(blank,(blank.shape[1]//2,blank.shape[0]//2),30,(0,0,255),thickness=2)\n",
    "cv.imshow(\"Circle\",blank)\n",
    "cv.waitKey(0)\n",
    "cv.destroyAllWindows()"
   ]
  },
  {
   "cell_type": "code",
   "execution_count": 9,
   "id": "bff88674-75bc-489b-a861-49530f3bebc3",
   "metadata": {},
   "outputs": [],
   "source": [
    "#line\n",
    "cv.line(blank,(100,100),(250,250),(255,255,255),thickness = 4)\n",
    "cv.imshow(\"Line\",blank)\n",
    "cv.waitKey(0)\n",
    "cv.destroyAllWindows()"
   ]
  },
  {
   "cell_type": "code",
   "execution_count": 14,
   "id": "12006697-590a-4757-a19d-10a990478981",
   "metadata": {},
   "outputs": [],
   "source": [
    "#write a text in blank \n",
    "cv.putText(blank,\"It's Me !\",(0,255),cv.FONT_HERSHEY_TRIPLEX,1.0,(255,255,255),thickness = 2)\n",
    "cv.imshow(\"TEXT\",blank)\n",
    "cv.waitKey(0)\n",
    "cv.destroyAllWindows()"
   ]
  },
  {
   "cell_type": "code",
   "execution_count": null,
   "id": "504d4afa",
   "metadata": {},
   "outputs": [],
   "source": []
  }
 ],
 "metadata": {
  "kernelspec": {
   "display_name": "Python 3 (ipykernel)",
   "language": "python",
   "name": "python3"
  },
  "language_info": {
   "codemirror_mode": {
    "name": "ipython",
    "version": 3
   },
   "file_extension": ".py",
   "mimetype": "text/x-python",
   "name": "python",
   "nbconvert_exporter": "python",
   "pygments_lexer": "ipython3",
   "version": "3.10.8"
  }
 },
 "nbformat": 4,
 "nbformat_minor": 5
}
