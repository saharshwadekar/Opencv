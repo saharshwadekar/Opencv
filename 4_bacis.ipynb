{
 "cells": [
  {
   "cell_type": "code",
   "execution_count": 1,
   "id": "09ea88fd",
   "metadata": {},
   "outputs": [],
   "source": [
    "import cv2 as cv\n",
    "import numpy as np"
   ]
  },
  {
   "cell_type": "code",
   "execution_count": 28,
   "id": "9910aeda",
   "metadata": {},
   "outputs": [],
   "source": [
    "#\n",
    "img = cv.imread(\"data/home.jpg\")\n",
    "cv.imshow(\"Home\",img)\n",
    "\n",
    "#converting image to grayScale\n",
    "gray = cv.cvtColor(img,cv.COLOR_BGR2GRAY)\n",
    "cv.imshow(\"GRAY\",gray)\n",
    "\n",
    "#blur image\n",
    "blur = cv.GaussianBlur(img,(7,7),cv.BORDER_DEFAULT)\n",
    "cv.imshow(\"BLUR\",blur)\n",
    "\n",
    "#Edge Cascade \n",
    "canny = cv.Canny(blur,125,175)\n",
    "cv.imshow(\"CANNY\",canny)\n",
    "\n",
    "#dialating images\n",
    "dilated = cv.dilate(canny,(7,7),iterations = 2)\n",
    "cv.imshow(\"DILATED\",dilated)\n",
    "\n",
    "#Eroding\n",
    "eroded = cv.erode(dilated,(7,7),iterations = 2)\n",
    "cv.imshow(\"ERODED\",eroded)\n",
    "\n",
    "#resize image\n",
    "resize = cv.resize(img,(500,500),interpolation = cv.INTER_CUBIC)\n",
    "cv.imshow(\"RESIZED\",resize)\n",
    "\n",
    "#croping\n",
    "croped = img[50:200,200:400]\n",
    "cv.imshow(\"CROP\",croped)\n",
    "\n",
    "cv.waitKey(0)\n",
    "cv.destroyAllWindows()\n",
    "# cv.destroyWindow(\"GRAY_FISH\")"
   ]
  },
  {
   "cell_type": "code",
   "execution_count": null,
   "id": "b5389554",
   "metadata": {},
   "outputs": [],
   "source": []
  }
 ],
 "metadata": {
  "kernelspec": {
   "display_name": "Python 3 (ipykernel)",
   "language": "python",
   "name": "python3"
  },
  "language_info": {
   "codemirror_mode": {
    "name": "ipython",
    "version": 3
   },
   "file_extension": ".py",
   "mimetype": "text/x-python",
   "name": "python",
   "nbconvert_exporter": "python",
   "pygments_lexer": "ipython3",
   "version": "3.10.8"
  }
 },
 "nbformat": 4,
 "nbformat_minor": 5
}
